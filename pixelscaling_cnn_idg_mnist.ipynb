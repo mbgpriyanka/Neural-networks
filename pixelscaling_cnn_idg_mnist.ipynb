{
 "cells": [
  {
   "cell_type": "code",
   "execution_count": 3,
   "metadata": {
    "scrolled": false
   },
   "outputs": [],
   "source": [
    "from keras.datasets import mnist\n",
    "from keras.utils import to_categorical\n",
    "from keras.models import Sequential\n",
    "from keras.layers import Dense\n",
    "from keras.layers import Conv2D,MaxPooling2D,Flatten\n",
    "from keras.preprocessing.image import ImageDataGenerator"
   ]
  },
  {
   "cell_type": "code",
   "execution_count": 4,
   "metadata": {},
   "outputs": [
    {
     "name": "stdout",
     "output_type": "stream",
     "text": [
      "Shape of training data... (60000, 28, 28)\n",
      "Shape of testing data... (10000, 28, 28)\n"
     ]
    }
   ],
   "source": [
    "(train_X,train_y),(test_X,test_y) = mnist.load_data()\n",
    "print('Shape of training data...',train_X.shape)\n",
    "print('Shape of testing data...',test_X.shape)"
   ]
  },
  {
   "cell_type": "code",
   "execution_count": 5,
   "metadata": {},
   "outputs": [
    {
     "name": "stdout",
     "output_type": "stream",
     "text": [
      "Shape of training data... (60000, 28, 28, 1)\n",
      "Shape of testing data... (10000, 28, 28, 1)\n"
     ]
    }
   ],
   "source": [
    "w,h,c = train_X.shape[1],train_X.shape[2],1\n",
    "train_X = train_X.reshape(train_X.shape[0],w,h,c)\n",
    "test_X = test_X.reshape(test_X.shape[0],w,h,c)\n",
    "print('Shape of training data...',train_X.shape)\n",
    "print('Shape of testing data...',test_X.shape)"
   ]
  },
  {
   "cell_type": "code",
   "execution_count": 6,
   "metadata": {},
   "outputs": [],
   "source": [
    "train_y = to_categorical(train_y)\n",
    "test_y = to_categorical(test_y)"
   ]
  },
  {
   "cell_type": "code",
   "execution_count": 7,
   "metadata": {},
   "outputs": [],
   "source": [
    "dg = ImageDataGenerator(rescale =1.0/255.0)\n" # normalise pixels
   ]
  },
  {
   "cell_type": "code",
   "execution_count": 8,
   "metadata": {},
   "outputs": [
    {
     "name": "stdout",
     "output_type": "stream",
     "text": [
      "Batches train=938, test=157\n"
     ]
    }
   ],
   "source": [
    "train_iterator = dg.flow(train_X,train_y,batch_size=64)\n",
    "test_iterator = dg.flow(test_X,test_y,batch_size=64)\n",
    "print('Batches train=%d, test=%d' % (len(train_iterator), len(test_iterator)))\n"
   ]
  },
  {
   "cell_type": "code",
   "execution_count": 9,
   "metadata": {},
   "outputs": [
    {
     "name": "stdout",
     "output_type": "stream",
     "text": [
      "Batch shape=%s (64, 28, 28, 1)\n"
     ]
    }
   ],
   "source": [
    "batchx,batchy = train_iterator.next()\n",
    "print('Batch shape=%s', batchx.shape)\n"
   ]
  },
  {
   "cell_type": "code",
   "execution_count": 10,
   "metadata": {},
   "outputs": [],
   "source": [
    "model = Sequential()\n",
    "model.add(Conv2D(32,(3,3),activation='relu',input_shape=(w,h,c)))\n",
    "model.add(MaxPooling2D((2,2)))\n",
    "model.add(Conv2D(64,(3,3),activation='relu'))\n",
    "model.add(MaxPooling2D((2,2)))\n",
    "model.add(Flatten())\n",
    "model.add(Dense(64,activation='relu'))   \n",
    "model.add(Dense(10,activation='softmax')) \n"
   ]
  },
  {
   "cell_type": "code",
   "execution_count": 11,
   "metadata": {},
   "outputs": [],
   "source": [
    "model.compile(loss='categorical_crossentropy',optimizer='adam',metrics=['accuracy'])\n"
   ]
  },
  {
   "cell_type": "code",
   "execution_count": 12,
   "metadata": {},
   "outputs": [
    {
     "name": "stdout",
     "output_type": "stream",
     "text": [
      "Epoch 1/5\n",
      "938/938 [==============================] - 56s 60ms/step - loss: 0.1696 - acc: 0.9492\n",
      "Epoch 2/5\n",
      "938/938 [==============================] - 58s 62ms/step - loss: 0.0523 - acc: 0.9839\n",
      "Epoch 3/5\n",
      "938/938 [==============================] - 57s 60ms/step - loss: 0.0369 - acc: 0.9887\n",
      "Epoch 4/5\n",
      "938/938 [==============================] - 57s 61ms/step - loss: 0.0286 - acc: 0.9914\n",
      "Epoch 5/5\n",
      "938/938 [==============================] - 57s 61ms/step - loss: 0.0230 - acc: 0.9929\n"
     ]
    },
    {
     "data": {
      "text/plain": [
       "<keras.callbacks.History at 0x1e6c97df358>"
      ]
     },
     "execution_count": 12,
     "metadata": {},
     "output_type": "execute_result"
    }
   ],
   "source": [
    "model.fit_generator(train_iterator,steps_per_epoch=len(train_iterator),epochs=5)"
   ]
  },
  {
   "cell_type": "code",
   "execution_count": 17,
   "metadata": {},
   "outputs": [
    {
     "name": "stdout",
     "output_type": "stream",
     "text": [
      "Test Accuracy: 99.0\n"
     ]
    }
   ],
   "source": [
    "_, acc = model.evaluate_generator(test_iterator, steps=len(test_iterator))\n",
    "print('Test Accuracy:',(acc * 100))"
   ]
  },
  {
   "cell_type": "code",
   "execution_count": null,
   "metadata": {},
   "outputs": [],
   "source": []
  }
 ],
 "metadata": {
  "kernelspec": {
   "display_name": "Python [conda env:pb_tf_envt]",
   "language": "python",
   "name": "conda-env-pb_tf_envt-py"
  },
  "language_info": {
   "codemirror_mode": {
    "name": "ipython",
    "version": 3
   },
   "file_extension": ".py",
   "mimetype": "text/x-python",
   "name": "python",
   "nbconvert_exporter": "python",
   "pygments_lexer": "ipython3",
   "version": "3.5.5"
  }
 },
 "nbformat": 4,
 "nbformat_minor": 2
}
